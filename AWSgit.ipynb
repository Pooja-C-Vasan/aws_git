{
 "cells": [
  {
   "cell_type": "code",
   "execution_count": 1,
   "id": "upset-arthur",
   "metadata": {},
   "outputs": [
    {
     "name": "stdout",
     "output_type": "stream",
     "text": [
      "Sum of 15 and 12 is 27\n"
     ]
    }
   ],
   "source": [
    "# Python3 program to add two numbers \n",
    "  \n",
    "num1 = 15\n",
    "num2 = 12\n",
    "  \n",
    "# Adding two nos \n",
    "sum = num1 + num2 \n",
    "  \n",
    "# printing values \n",
    "print(\"Sum of {0} and {1} is {2}\" .format(num1, num2, sum)) "
   ]
  },
  {
   "cell_type": "code",
   "execution_count": null,
   "id": "reflected-storm",
   "metadata": {},
   "outputs": [],
   "source": []
  }
 ],
 "metadata": {
  "kernelspec": {
   "display_name": "conda_python3",
   "language": "python",
   "name": "conda_python3"
  },
  "language_info": {
   "codemirror_mode": {
    "name": "ipython",
    "version": 3
   },
   "file_extension": ".py",
   "mimetype": "text/x-python",
   "name": "python",
   "nbconvert_exporter": "python",
   "pygments_lexer": "ipython3",
   "version": "3.6.10"
  }
 },
 "nbformat": 4,
 "nbformat_minor": 5
}
